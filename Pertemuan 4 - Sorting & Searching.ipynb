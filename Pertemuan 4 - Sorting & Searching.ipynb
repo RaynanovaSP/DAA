{
 "cells": [
  {
   "cell_type": "markdown",
   "metadata": {},
   "source": [
    "# Pertemuan 4 - Sorting & Searching"
   ]
  },
  {
   "cell_type": "markdown",
   "metadata": {},
   "source": [
    "## I. Sorting"
   ]
  },
  {
   "cell_type": "markdown",
   "metadata": {},
   "source": [
    "Fungsi Swap"
   ]
  },
  {
   "cell_type": "code",
   "execution_count": 1,
   "metadata": {},
   "outputs": [],
   "source": [
    "#swap function"
   ]
  },
  {
   "cell_type": "code",
   "execution_count": 2,
   "metadata": {},
   "outputs": [],
   "source": [
    "var1 = 11\n",
    "var2 = 22\n",
    "var1,var2 = var2,var1"
   ]
  },
  {
   "cell_type": "code",
   "execution_count": 3,
   "metadata": {},
   "outputs": [
    {
     "name": "stdout",
     "output_type": "stream",
     "text": [
      "22 11\n"
     ]
    }
   ],
   "source": [
    "print(var1,var2)"
   ]
  },
  {
   "cell_type": "markdown",
   "metadata": {},
   "source": [
    "1. Bubble Sort"
   ]
  },
  {
   "cell_type": "markdown",
   "metadata": {},
   "source": [
    "## Sorting Algortihms"
   ]
  },
  {
   "cell_type": "markdown",
   "metadata": {},
   "source": [
    "### 1. Bubble Sort"
   ]
  },
  {
   "cell_type": "code",
   "execution_count": 4,
   "metadata": {},
   "outputs": [],
   "source": [
    "list = [19,8,70,44,5,12,77]\n",
    "#modif sesusai angka favorit"
   ]
  },
  {
   "cell_type": "code",
   "execution_count": 5,
   "metadata": {},
   "outputs": [
    {
     "name": "stdout",
     "output_type": "stream",
     "text": [
      "0 [19, 8, 70, 44, 5, 12, 77]\n",
      "1 [8, 19, 70, 44, 5, 12, 77]\n",
      "2 [8, 19, 70, 44, 5, 12, 77]\n",
      "3 [8, 19, 44, 70, 5, 12, 77]\n",
      "4 [8, 19, 44, 5, 70, 12, 77]\n",
      "5 [8, 19, 44, 5, 12, 70, 77]\n",
      "6 [8, 19, 44, 5, 12, 70, 77]\n"
     ]
    }
   ],
   "source": [
    "#proses penukaran bubble sort\n",
    "\n",
    "lastElementIndex = len(list)-1\n",
    "print(0,list)\n",
    "for idx in range (lastElementIndex):\n",
    "            if list[idx]>list[idx+1]:\n",
    "                list[idx],list[idx+1]=list[idx+1],list[idx]\n",
    "            print(idx+1,list)"
   ]
  },
  {
   "cell_type": "code",
   "execution_count": 6,
   "metadata": {},
   "outputs": [
    {
     "data": {
      "text/plain": [
       "[8, 19, 44, 5, 12, 70, 77]"
      ]
     },
     "execution_count": 6,
     "metadata": {},
     "output_type": "execute_result"
    }
   ],
   "source": [
    "list"
   ]
  },
  {
   "cell_type": "code",
   "execution_count": 7,
   "metadata": {},
   "outputs": [],
   "source": [
    "def BubbleSort(list):\n",
    "    #Excahnge the elements to arrange in order\n",
    "    lastElementIndex = len(list)-1\n",
    "    for passNo in range(lastElementIndex,0,-1):\n",
    "        for idx in range(passNo):\n",
    "            if list[idx]>list[idx+1]:\n",
    "                list[idx],list[idx+1]=list[idx+1],list[idx]\n",
    "    return list"
   ]
  },
  {
   "cell_type": "code",
   "execution_count": 8,
   "metadata": {},
   "outputs": [],
   "source": [
    "#masukan angka dengan urutan lain\n",
    "list = [19,8,70,44,5,12,77]"
   ]
  },
  {
   "cell_type": "code",
   "execution_count": 9,
   "metadata": {},
   "outputs": [
    {
     "data": {
      "text/plain": [
       "[5, 8, 12, 19, 44, 70, 77]"
      ]
     },
     "execution_count": 9,
     "metadata": {},
     "output_type": "execute_result"
    }
   ],
   "source": [
    "BubbleSort(list)"
   ]
  },
  {
   "cell_type": "code",
   "execution_count": 10,
   "metadata": {},
   "outputs": [
    {
     "data": {
      "text/plain": [
       "[5, 8, 12, 19, 44, 70, 77]"
      ]
     },
     "execution_count": 10,
     "metadata": {},
     "output_type": "execute_result"
    }
   ],
   "source": [
    "list"
   ]
  },
  {
   "cell_type": "markdown",
   "metadata": {},
   "source": [
    "2. Insertion Sort"
   ]
  },
  {
   "cell_type": "markdown",
   "metadata": {},
   "source": [
    "### 2. Insertion Sort"
   ]
  },
  {
   "cell_type": "code",
   "execution_count": 11,
   "metadata": {},
   "outputs": [],
   "source": [
    "def InsertionSort(list):\n",
    "    for i in range(1, len(list)):\n",
    "        j = i-1\n",
    "        next = list[i]\n",
    "        # Compare the current element with next one\n",
    "        \n",
    "        while (list[j] > next) and (j >= 0):\n",
    "            list[j+1] = list[j]\n",
    "            j=j-1\n",
    "        list [j+1] = next\n",
    "    return list"
   ]
  },
  {
   "cell_type": "code",
   "execution_count": 12,
   "metadata": {},
   "outputs": [],
   "source": [
    "#masukan angka dengan urutan lain\n",
    "list = [40,87,12,5,10,33,45]"
   ]
  },
  {
   "cell_type": "code",
   "execution_count": 13,
   "metadata": {},
   "outputs": [
    {
     "data": {
      "text/plain": [
       "[40, 87, 12, 5, 10, 33, 45]"
      ]
     },
     "execution_count": 13,
     "metadata": {},
     "output_type": "execute_result"
    }
   ],
   "source": [
    "list"
   ]
  },
  {
   "cell_type": "code",
   "execution_count": 14,
   "metadata": {},
   "outputs": [
    {
     "data": {
      "text/plain": [
       "[5, 10, 12, 33, 40, 45, 87]"
      ]
     },
     "execution_count": 14,
     "metadata": {},
     "output_type": "execute_result"
    }
   ],
   "source": [
    "InsertionSort(list)"
   ]
  },
  {
   "cell_type": "code",
   "execution_count": 15,
   "metadata": {},
   "outputs": [
    {
     "data": {
      "text/plain": [
       "[5, 10, 12, 33, 40, 45, 87]"
      ]
     },
     "execution_count": 15,
     "metadata": {},
     "output_type": "execute_result"
    }
   ],
   "source": [
    "list"
   ]
  },
  {
   "cell_type": "markdown",
   "metadata": {},
   "source": [
    "3. Selection Sort"
   ]
  },
  {
   "cell_type": "markdown",
   "metadata": {},
   "source": [
    "### 3. Selection Sort"
   ]
  },
  {
   "cell_type": "code",
   "execution_count": 16,
   "metadata": {},
   "outputs": [],
   "source": [
    "def SelectionSort(list):\n",
    "    for fill_slot in range(len(list) - 1,0, -1):\n",
    "        max_index = 0\n",
    "        for location in range(1, fill_slot + 1):\n",
    "            if list[location] > list[max_index]:\n",
    "                max_index = location\n",
    "        list[fill_slot], list[max_index] = list[max_index],list[fill_slot]\n",
    "    return list"
   ]
  },
  {
   "cell_type": "code",
   "execution_count": 17,
   "metadata": {},
   "outputs": [
    {
     "data": {
      "text/plain": [
       "[5, 8, 12, 19, 44, 70, 77]"
      ]
     },
     "execution_count": 17,
     "metadata": {},
     "output_type": "execute_result"
    }
   ],
   "source": [
    "list = [19,8,70,44,5,12,77]\n",
    "SelectionSort(list)"
   ]
  },
  {
   "cell_type": "code",
   "execution_count": 18,
   "metadata": {},
   "outputs": [
    {
     "data": {
      "text/plain": [
       "[5, 8, 12, 19, 44, 70, 77]"
      ]
     },
     "execution_count": 18,
     "metadata": {},
     "output_type": "execute_result"
    }
   ],
   "source": [
    "list"
   ]
  },
  {
   "cell_type": "markdown",
   "metadata": {},
   "source": [
    "## II. Searching"
   ]
  },
  {
   "cell_type": "markdown",
   "metadata": {},
   "source": [
    "Linear Search"
   ]
  },
  {
   "cell_type": "markdown",
   "metadata": {},
   "source": [
    "## Searching Algorithms"
   ]
  },
  {
   "cell_type": "markdown",
   "metadata": {},
   "source": [
    "### 1. Linear Search"
   ]
  },
  {
   "cell_type": "code",
   "execution_count": 19,
   "metadata": {},
   "outputs": [],
   "source": [
    "def LinearSearch(list, item):\n",
    "    index = 0\n",
    "    found = False\n",
    "    \n",
    "    #match the value with each data element\n",
    "    while index < len(list) and found is False:\n",
    "        if list[index] == item:\n",
    "            found = True\n",
    "        else:\n",
    "            index = index + 1\n",
    "    return found"
   ]
  },
  {
   "cell_type": "code",
   "execution_count": 20,
   "metadata": {},
   "outputs": [
    {
     "name": "stdout",
     "output_type": "stream",
     "text": [
      "True\n",
      "False\n"
     ]
    }
   ],
   "source": [
    "list = [90,21,89,10,25,12]\n",
    "print(LinearSearch(list, 12))\n",
    "print(LinearSearch(list, 91))"
   ]
  },
  {
   "cell_type": "markdown",
   "metadata": {},
   "source": [
    "2. Binary Search"
   ]
  },
  {
   "cell_type": "markdown",
   "metadata": {},
   "source": [
    "## 2. Binary Seach"
   ]
  },
  {
   "cell_type": "code",
   "execution_count": 21,
   "metadata": {},
   "outputs": [],
   "source": [
    "def BinarySearch(list, item):\n",
    "    first = 0\n",
    "    last = len(list)-1\n",
    "    found = False\n",
    "    \n",
    "    while first<+last and not found:\n",
    "        midpoint = (first + last)//2\n",
    "        if list[midpoint] == item:\n",
    "            found = True\n",
    "        else:\n",
    "            if item < list[midpoint]:\n",
    "                last = midpoint-1\n",
    "            else:\n",
    "                first = midpoint+1\n",
    "    return found"
   ]
  },
  {
   "cell_type": "code",
   "execution_count": 22,
   "metadata": {},
   "outputs": [
    {
     "name": "stdout",
     "output_type": "stream",
     "text": [
      "True\n",
      "False\n"
     ]
    }
   ],
   "source": [
    "list = [12,33,11,99,22,55,90]\n",
    "sorted_list = BubbleSort(list)\n",
    "print(BinarySearch(list, 12))\n",
    "print(BinarySearch(list, 91))"
   ]
  },
  {
   "cell_type": "markdown",
   "metadata": {},
   "source": [
    "3. Interpolation Search"
   ]
  },
  {
   "cell_type": "markdown",
   "metadata": {},
   "source": [
    "## 3. Interpolation"
   ]
  },
  {
   "cell_type": "code",
   "execution_count": 23,
   "metadata": {},
   "outputs": [],
   "source": [
    "def IntPolSearch(list, x):\n",
    "    idx0 = 0\n",
    "    idxn = (len(list) - 1)\n",
    "    found = False\n",
    "    while idx0 <= idxn and x >= list[idx0] and x <= list[idxn]:\n",
    "        \n",
    "        #Find the mid point\n",
    "        mid = idx0 +int(((float (idxn - idx0)/( list [idxn] - list[idx0])) * (x -list [idx0])))\n",
    "                          \n",
    "        #Compare the value at mid point with search value\n",
    "        if list[mid] == x:\n",
    "            found = True\n",
    "            return found\n",
    "                          \n",
    "        if list [mid] < x:\n",
    "            idx0 = mid + 1\n",
    "    return found\n",
    "                              "
   ]
  },
  {
   "cell_type": "code",
   "execution_count": 24,
   "metadata": {},
   "outputs": [
    {
     "name": "stdout",
     "output_type": "stream",
     "text": [
      "True\n",
      "False\n"
     ]
    }
   ],
   "source": [
    "list = [12,33,11,99,22,55,90]\n",
    "sorted_list = BubbleSort(list)\n",
    "print(IntPolSearch(list,12))\n",
    "print(IntPolSearch(list,91))"
   ]
  },
  {
   "cell_type": "code",
   "execution_count": null,
   "metadata": {},
   "outputs": [],
   "source": []
  }
 ],
 "metadata": {
  "kernelspec": {
   "display_name": "Python 3",
   "language": "python",
   "name": "python3"
  },
  "language_info": {
   "codemirror_mode": {
    "name": "ipython",
    "version": 3
   },
   "file_extension": ".py",
   "mimetype": "text/x-python",
   "name": "python",
   "nbconvert_exporter": "python",
   "pygments_lexer": "ipython3",
   "version": "3.8.3"
  }
 },
 "nbformat": 4,
 "nbformat_minor": 4
}
