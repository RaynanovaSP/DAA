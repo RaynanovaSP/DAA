{
 "cells": [
  {
   "cell_type": "markdown",
   "metadata": {},
   "source": [
    "## BAB 10"
   ]
  },
  {
   "cell_type": "markdown",
   "metadata": {},
   "source": [
    "## ALGORITMA GRAPH"
   ]
  },
  {
   "cell_type": "markdown",
   "metadata": {},
   "source": [
    "### 1. Membuat Graph dengan Elemen V = {a,b,c,d,e} E = {ab,ac,bd,cd,de}"
   ]
  },
  {
   "cell_type": "markdown",
   "metadata": {},
   "source": [
    "Vertex atau simpul terdiri dari titik-titik yang menyusun suatu graph. Pada praktikum ini, simpul merupakan {a, b, c, d, e}. Edge atau sudut merupakan dua simpul yang dihubungkan, misalnya ab, ac, bd, cd, de."
   ]
  },
  {
   "cell_type": "code",
   "execution_count": 1,
   "metadata": {},
   "outputs": [],
   "source": [
    "#a-----b\n",
    "#|     |\n",
    "#|     |\n",
    "#c-----d-----e"
   ]
  },
  {
   "cell_type": "code",
   "execution_count": 20,
   "metadata": {},
   "outputs": [
    {
     "name": "stdout",
     "output_type": "stream",
     "text": [
      "{'a': ['b', 'c'], 'b': ['a', 'd'], 'c': ['a', 'd'], 'd': ['e'], 'e': ['d']}\n"
     ]
    }
   ],
   "source": [
    "# Create the dictionary with graph elements\n",
    "graph = { \"a\" : [\"b\",\"c\"],\n",
    "          \"b\" : [\"a\", \"d\"],\n",
    "          \"c\" : [\"a\", \"d\"],\n",
    "          \"d\" : [\"e\"],\n",
    "          \"e\" : [\"d\"]\n",
    "        }\n",
    "\n",
    "#print the graph \n",
    "print(graph)"
   ]
  },
  {
   "cell_type": "markdown",
   "metadata": {},
   "source": [
    "### 2. Menampilkan Simpul pada Graph"
   ]
  },
  {
   "cell_type": "markdown",
   "metadata": {},
   "source": [
    "Elemen simpul pada praktikium ini contohnya {a, b, c, d, e}"
   ]
  },
  {
   "cell_type": "code",
   "execution_count": 3,
   "metadata": {},
   "outputs": [
    {
     "name": "stdout",
     "output_type": "stream",
     "text": [
      "['a', 'b', 'c', 'd', 'e']\n"
     ]
    }
   ],
   "source": [
    "class graph:\n",
    "    def __init__(self,gdict=None):\n",
    "        if gdict is None:\n",
    "            gdict = []\n",
    "        self.gdict = gdict\n",
    "            \n",
    "# Get the keys of the dictionary\n",
    "    def getVertices(self):\n",
    "        return list(self.gdict.keys())\n",
    "    \n",
    "#Create the dictionary with graph elements\n",
    "graph_elements = { \"a\" : [\"b\",\"c\"],\n",
    "                   \"b\" : [\"a\", \"d\"],\n",
    "                   \"c\" : [\"a\", \"d\"],\n",
    "                   \"d\" : [\"e\"],\n",
    "                   \"e\" : [\"d\"]\n",
    "                 }\n",
    "\n",
    "g = graph(graph_elements)\n",
    "\n",
    "print(g.getVertices())"
   ]
  },
  {
   "cell_type": "markdown",
   "metadata": {},
   "source": [
    "### 3. Menampilkan Sudut pada Graph"
   ]
  },
  {
   "cell_type": "markdown",
   "metadata": {},
   "source": [
    "Edge atau sudut merupakan dua simpul yang dihubungkan, misalnya ab, ac, bd, cd, de dari Graph secara keseluruhan"
   ]
  },
  {
   "cell_type": "code",
   "execution_count": 8,
   "metadata": {},
   "outputs": [
    {
     "name": "stdout",
     "output_type": "stream",
     "text": [
      "[{'a', 'b'}, {'a', 'c'}, {'b', 'd'}, {'d', 'c'}, {'e', 'd'}]\n"
     ]
    }
   ],
   "source": [
    "class graph:\n",
    "    def __init__(self,gdict=None):\n",
    "        if gdict is None:\n",
    "            gdict ={}\n",
    "        self.gdict = gdict\n",
    "                \n",
    "    def edges(self):\n",
    "        return self.findedges()\n",
    "    \n",
    "#Find th distinct list of edges\n",
    "    def findedges(self):\n",
    "        edgename = []\n",
    "        for vrtx in self.gdict:\n",
    "            for nxtvrtx in self.gdict[vrtx]:\n",
    "                if {nxtvrtx, vrtx} not in edgename:\n",
    "                    edgename.append({vrtx, nxtvrtx})\n",
    "        return edgename\n",
    "    \n",
    "#Create the dictionary with graph elements\n",
    "graph_elements = { \"a\" : [\"b\",\"c\"],\n",
    "                   \"b\" : [\"a\", \"d\"],\n",
    "                   \"c\" : [\"a\", \"d\"],\n",
    "                   \"d\" : [\"e\"],\n",
    "                   \"e\" : [\"d\"]\n",
    "                 }\n",
    "\n",
    "g = graph(graph_elements)\n",
    "\n",
    "print(g.edges())"
   ]
  },
  {
   "cell_type": "markdown",
   "metadata": {},
   "source": [
    "### 4. Menambah Vertex / Simpul"
   ]
  },
  {
   "cell_type": "markdown",
   "metadata": {},
   "source": [
    "Tambahkan Simpul"
   ]
  },
  {
   "cell_type": "code",
   "execution_count": 18,
   "metadata": {},
   "outputs": [
    {
     "name": "stdout",
     "output_type": "stream",
     "text": [
      "['a', 'b', 'c', 'd', 'e', 'f', 'z']\n"
     ]
    }
   ],
   "source": [
    "class graph:\n",
    "    def __init__(self,gdict=None):\n",
    "        if gdict is None:\n",
    "            gdict ={}\n",
    "        self.gdict = gdict\n",
    "    \n",
    "    def getVertices(self):\n",
    "        return list(self.gdict.keys())\n",
    "    \n",
    "#add the vertex as a key\n",
    "    def addVertex(self, vrtx):\n",
    "        if vrtx not in self.gdict:\n",
    "            self.gdict[vrtx] = []\n",
    "\n",
    "#Create the dictionary with graph elements\n",
    "graph_elements = { \"a\" : [\"b\",\"c\"],\n",
    "                   \"b\" : [\"a\", \"d\"],\n",
    "                   \"c\" : [\"a\", \"d\"],\n",
    "                   \"d\" : [\"e\"],\n",
    "                   \"e\" : [\"d\"]\n",
    "                 }\n",
    "\n",
    "g = graph(graph_elements)\n",
    "\n",
    "g.addVertex(\"f\")\n",
    "\n",
    "print(g.getVertices())\n",
    "            "
   ]
  },
  {
   "cell_type": "markdown",
   "metadata": {},
   "source": [
    "### 5. Menambah Edge / Sudut"
   ]
  },
  {
   "cell_type": "code",
   "execution_count": 30,
   "metadata": {},
   "outputs": [
    {
     "name": "stdout",
     "output_type": "stream",
     "text": [
      "[{'a', 'b'}, {'a', 'c'}, {'a', 'e'}, {'b', 'd'}, {'d', 'c'}, {'e', 'd'}]\n"
     ]
    }
   ],
   "source": [
    "class graph:\n",
    "    def __init__(self,gdict=None):\n",
    "        if gdict is None:\n",
    "            gdict ={}\n",
    "        self.gdict = gdict\n",
    "        \n",
    "    def edges(self):\n",
    "        return self.findedges()\n",
    "    \n",
    "#add the new edge\n",
    "    def AddEdge(self, edge):\n",
    "        edge = set(edge)\n",
    "        (vrtx1, vrtx2) = tuple(edge)\n",
    "        if vrtx1 in self.gdict:\n",
    "            self.gdict[vrtx1].append(vrtx2)\n",
    "        else:\n",
    "            self.gdict[vrtx1] = [vrtx2]\n",
    "        \n",
    "#list the edge names\n",
    "    def findedges(self):\n",
    "        edgename = []\n",
    "        for vrtx in self.gdict:\n",
    "            for nxtvrtx in self.gdict[vrtx]:\n",
    "                if{nxtvrtx, vrtx} not in edgename:\n",
    "                    edgename.append({vrtx, nxtvrtx})\n",
    "        return edgename\n",
    "    \n",
    "#Create the dictionary with graph elements\n",
    "graph_elements = { \"a\" : [\"b\",\"c\"],\n",
    "                   \"b\" : [\"a\", \"d\"],\n",
    "                   \"c\" : [\"a\", \"d\"],\n",
    "                   \"d\" : [\"e\"],\n",
    "                   \"e\" : [\"d\"]\n",
    "                 }\n",
    "\n",
    "g = graph(graph_elements)\n",
    "g.AddEdge({'a','e',})\n",
    "g.AddEdge({'a','c'})\n",
    "print(g.edges())"
   ]
  },
  {
   "cell_type": "code",
   "execution_count": null,
   "metadata": {},
   "outputs": [],
   "source": []
  }
 ],
 "metadata": {
  "kernelspec": {
   "display_name": "Python 3",
   "language": "python",
   "name": "python3"
  },
  "language_info": {
   "codemirror_mode": {
    "name": "ipython",
    "version": 3
   },
   "file_extension": ".py",
   "mimetype": "text/x-python",
   "name": "python",
   "nbconvert_exporter": "python",
   "pygments_lexer": "ipython3",
   "version": "3.8.3"
  }
 },
 "nbformat": 4,
 "nbformat_minor": 4
}
